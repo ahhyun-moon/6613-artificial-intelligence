{
  "cells": [
    {
      "cell_type": "markdown",
      "metadata": {
        "id": "view-in-github",
        "colab_type": "text"
      },
      "source": [
        "<a href=\"https://colab.research.google.com/github/ahhyun-moon/cs-gy-6613-assignments/blob/main/sports_analytics.ipynb\" target=\"_parent\"><img src=\"https://colab.research.google.com/assets/colab-badge.svg\" alt=\"Open In Colab\"/></a>"
      ]
    },
    {
      "cell_type": "code",
      "execution_count": 2,
      "metadata": {
        "colab": {
          "base_uri": "https://localhost:8080/"
        },
        "id": "1Ihz36HWXlRu",
        "outputId": "c0a4ff5d-f60c-4588-edb3-e73c0dcec539"
      },
      "outputs": [
        {
          "output_type": "stream",
          "name": "stdout",
          "text": [
            "Downloading...\n",
            "From: https://drive.google.com/uc?id=1n6CPo6ZXgcfLgSYCF5GMxK21oh7p0FFc\n",
            "To: /content/customized_deep_sort.zip\n",
            "100% 197k/197k [00:00<00:00, 117MB/s]\n",
            "Downloading...\n",
            "From: https://drive.google.com/uc?id=1rENhTdPNXQqVosm3JgziEqjlCYXahvVu\n",
            "To: /content/mars-small128.pb\n",
            "100% 11.2M/11.2M [00:00<00:00, 102MB/s] \n",
            "Downloading...\n",
            "From: https://drive.google.com/uc?id=1T2SXTUlmnyN_YPo0ow98N_3zborQFWfZ\n",
            "To: /content/football-video.mp4\n",
            "100% 6.41M/6.41M [00:00<00:00, 72.4MB/s]\n"
          ]
        }
      ],
      "source": [
        "%%capture\n",
        "# Download football-video.mp4 from G-Drive\n",
        "# !gdown 1RHjI-dtvrqGgnhIstB2d2ol-nTHvNUiE # Original Source\n",
        "!gdown 1T2SXTUlmnyN_YPo0ow98N_3zborQFWfZ # Saved in my G-Drive\n",
        "# Video for testing (3s long)\n",
        "# !gdown 10bClW5rzvYATErpHMrgITd61ESBnkpzd\n",
        "# Deepsort\n",
        "# Download customized DEEPSORT lib from G-Drive\n",
        "!gdown 1n6CPo6ZXgcfLgSYCF5GMxK21oh7p0FFc\n",
        "!unzip /content/customized_deep_sort.zip\n",
        "# Install DEEPSORT dependencies\n",
        "!pip install numpy opencv-python scikit-learn \n",
        "!rm -r /content/__MACOSX\n",
        "# Download mars-small128.pb weights from G-Drive\n",
        "!gdown 1rENhTdPNXQqVosm3JgziEqjlCYXahvVu"
      ]
    },
    {
      "cell_type": "code",
      "execution_count": 6,
      "metadata": {
        "id": "D5ClGa0FYRc9"
      },
      "outputs": [],
      "source": [
        "# Import necessary libraries\n",
        "import numpy as np\n",
        "import cv2\n",
        "import torch\n",
        "from torchvision import datasets, transforms, models\n",
        "from PIL import Image\n",
        "import matplotlib\n",
        "from google.colab.patches import cv2_imshow\n",
        "from customized_deep_sort.deep_sort import nn_matching\n",
        "from customized_deep_sort.application_util import preprocessing\n",
        "from customized_deep_sort.deep_sort.tracker import Tracker\n",
        "from customized_deep_sort.deep_sort.detection import Detection\n",
        "from customized_deep_sort.tools import generate_detections"
      ]
    },
    {
      "cell_type": "code",
      "execution_count": 11,
      "metadata": {
        "id": "Bj4icbm_gwYc"
      },
      "outputs": [],
      "source": [
        "# Define COCO dataset class names given by PyTorch's official Docs\n",
        "COCO_INSTANCE_CATEGORY_NAMES = [\n",
        "    '__background__', 'person', 'bicycle', 'car', 'motorcycle', 'airplane', 'bus',\n",
        "    'train', 'truck', 'boat', 'traffic light', 'fire hydrant', 'N/A', 'stop sign',\n",
        "    'parking meter', 'bench', 'bird', 'cat', 'dog', 'horse', 'sheep', 'cow',\n",
        "    'elephant', 'bear', 'zebra', 'giraffe', 'N/A', 'backpack', 'umbrella', 'N/A', 'N/A',\n",
        "    'handbag', 'tie', 'suitcase', 'frisbee', 'skis', 'snowboard', 'sports ball',\n",
        "    'kite', 'baseball bat', 'baseball glove', 'skateboard', 'surfboard', 'tennis racket',\n",
        "    'bottle', 'N/A', 'wine glass', 'cup', 'fork', 'knife', 'spoon', 'bowl',\n",
        "    'banana', 'apple', 'sandwich', 'orange', 'broccoli', 'carrot', 'hot dog', 'pizza',\n",
        "    'donut', 'cake', 'chair', 'couch', 'potted plant', 'bed', 'N/A', 'dining table',\n",
        "    'N/A', 'N/A', 'toilet', 'N/A', 'tv', 'laptop', 'mouse', 'remote', 'keyboard', 'cell phone',\n",
        "    'microwave', 'oven', 'toaster', 'sink', 'refrigerator', 'N/A', 'book',\n",
        "    'clock', 'vase', 'scissors', 'teddy bear', 'hair drier', 'toothbrush'\n",
        "]"
      ]
    },
    {
      "cell_type": "code",
      "source": [
        "# Use GPU if available\n",
        "device = torch.device(\"cuda\" if torch.cuda.is_available() else \"cpu\")\n",
        "# Load pretrained Faster-RCNN                   \n",
        "model = models.detection.fasterrcnn_resnet50_fpn(pretrained=True).eval().to(device)\n",
        "transform = transforms.Compose([transforms.ToTensor()])                                 \n",
        "# Prepare metrics for DEEPSORT \n",
        "max_cosine_distance = 0.5\n",
        "nms_max_overlap = 0.3\n",
        "nn_budget = None\n",
        "metric = nn_matching.NearestNeighborDistanceMetric(\"cosine\", max_cosine_distance, nn_budget)\n",
        "# Initialize DEEPSORT tracker and encoder\n",
        "tracker = Tracker(metric)\n",
        "model_filename = '/content/mars-small128.pb'\n",
        "encoder = generate_detections.create_box_encoder(model_filename,batch_size=1)\n",
        "# Prepare video file for analytics and output format\n",
        "filename = '/content/football-video.mp4'\n",
        "cap = cv2.VideoCapture(filename)\n",
        "fourcc = cv2.VideoWriter_fourcc('F','M','P','4')\n",
        "out = cv2.VideoWriter('/content/result_video.mp4',fourcc, 20, (1280,720))"
      ],
      "metadata": {
        "id": "726VH9nUFdlf"
      },
      "execution_count": 36,
      "outputs": []
    },
    {
      "cell_type": "code",
      "execution_count": 37,
      "metadata": {
        "id": "YJ9pR_bcVxhV"
      },
      "outputs": [],
      "source": [
        "while(True):\n",
        "    try:\n",
        "      is_success, frame = cap.read()\n",
        "    except cv2.error:\n",
        "      continue\n",
        "    if not is_success:\n",
        "      break\n",
        "    # Model\n",
        "    threshold = 0.75\n",
        "    # Load/transform/predict incoming frame\n",
        "    pred = model([transform(Image.fromarray(frame)).to(device)])\n",
        "    # Convert prediction to numpy\n",
        "    pred_score = list(pred[0]['scores'].cpu().detach().numpy())   \n",
        "    # Filter scores according threshold\n",
        "    pred_t = [pred_score.index(x) for x in pred_score if x > threshold][-1]\n",
        "    # Store detection results - labels, boxes, scores\n",
        "    pred_class = [COCO_INSTANCE_CATEGORY_NAMES[i] for i in list(pred[0]['labels'].cpu().numpy())][:pred_t+1]        # filter classes within the threshold\n",
        "    pred_boxes = [[i[0], i[1], i[2], i[3]] for i in list(pred[0]['boxes'].cpu().detach().numpy())][:pred_t+1]   # filter boxes within the threshold                                    \n",
        "    pred_score = list(pred[0]['scores'].cpu().detach().numpy())[:pred_t+1]\n",
        "    bboxes = []\n",
        "    scores = []\n",
        "    # Preprocess detection results before passing to tracking (DEEPSORT)\n",
        "    for i, p in enumerate(pred_boxes):\n",
        "      if(pred_score[i] > threshold):\n",
        "        bbox_left = min(p[0], p[2])\n",
        "        bbox_top = min(p[1], p[3])\n",
        "        bbox_w = abs(p[0] - p[2])\n",
        "        bbox_h = abs(p[1] - p[3])\n",
        "        box = [bbox_left, bbox_top, bbox_w, bbox_h]\n",
        "        bboxes.append(box)\n",
        "        scores.append(pred_score[i])\n",
        "    # Extract features based on detected boxes\n",
        "    features = encoder(frame,bboxes)\n",
        "    # Prepare boxes into detection objects before updating tracker\n",
        "    detections = [Detection(bbox, score, feature) for bbox, score, feature in zip(bboxes, scores, features)]\n",
        "    # Call the tracker and update the detections\n",
        "    tracker.predict()\n",
        "    tracker.update(detections)\n",
        "    # For each tracked result:\n",
        "    ## Draw rectangle and put id\n",
        "    for track in tracker.tracks:\n",
        "      if not track.is_confirmed() or track.time_since_update > 1:\n",
        "        continue\n",
        "      bbox = track.to_tlbr()\n",
        "      cv2.rectangle(frame, (int(bbox[0]), int(bbox[1])), (int(bbox[2]), int(bbox[3])),(255, 255, 255), 2)\n",
        "      cv2.putText(frame, str(track.track_id), (int(bbox[0]), int(bbox[1])), 0, 5e-3 * 200, (0, 255, 0), 2)\n",
        "    # Display the resulting frame\n",
        "    # cv2_imshow(frame)\n",
        "    # Write to video ouput\n",
        "    out.write(frame)\n",
        "    # Quit writing if q is pressed\n",
        "    if cv2.waitKey(1) & 0xFF == ord('q'):\n",
        "        break\n",
        "# Release the output file\n",
        "out.release()\n",
        "# When everything done, release the capture\n",
        "cap.release()\n",
        "cv2.destroyAllWindows()"
      ]
    }
  ],
  "metadata": {
    "accelerator": "GPU",
    "colab": {
      "provenance": [],
      "authorship_tag": "ABX9TyOzy13xDn56BJLA/0f/Ov/V",
      "include_colab_link": true
    },
    "gpuClass": "standard",
    "kernelspec": {
      "display_name": "Python 3",
      "name": "python3"
    },
    "language_info": {
      "name": "python"
    }
  },
  "nbformat": 4,
  "nbformat_minor": 0
}